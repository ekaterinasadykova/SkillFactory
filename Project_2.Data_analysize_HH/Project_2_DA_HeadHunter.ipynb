{
 "cells": [
  {
   "cell_type": "markdown",
   "id": "42289889-bd57-434e-9637-d3e354756316",
   "metadata": {
    "id": "42289889-bd57-434e-9637-d3e354756316"
   },
   "source": [
    "<center> <img src = https://raw.githubusercontent.com/AndreyRysistov/DatasetsForPandas/main/hh%20label.jpg alt=\"drawing\" style=\"width:400px;\">"
   ]
  },
  {
   "cell_type": "markdown",
   "id": "829cb75b-f14e-4ba8-9195-7ba929a7d656",
   "metadata": {
    "tags": [],
    "id": "829cb75b-f14e-4ba8-9195-7ba929a7d656"
   },
   "source": [
    "# <center> Проект: Анализ вакансий из HeadHunter\n",
    "   "
   ]
  },
  {
   "cell_type": "code",
   "execution_count": 20,
   "id": "dccfde33-2452-43fb-a8a5-5c6ebc02a71d",
   "metadata": {
    "id": "dccfde33-2452-43fb-a8a5-5c6ebc02a71d",
    "ExecuteTime": {
     "end_time": "2023-05-23T20:28:45.887193313Z",
     "start_time": "2023-05-23T20:28:45.878530169Z"
    }
   },
   "outputs": [],
   "source": [
    "import pandas as pd\n",
    "import psycopg2"
   ]
  },
  {
   "cell_type": "code",
   "source": [
    "# connect"
   ],
   "metadata": {
    "id": "oVKH4ehvf8Ay",
    "ExecuteTime": {
     "end_time": "2023-05-24T21:11:35.784334972Z",
     "start_time": "2023-05-24T21:11:35.763337784Z"
    }
   },
   "id": "oVKH4ehvf8Ay",
   "execution_count": 56,
   "outputs": []
  },
  {
   "cell_type": "code",
   "source": [
    "connection = psycopg2.connect(\n",
    "    dbname=DBNAME,\n",
    "    user=USER,\n",
    "    host=HOST,\n",
    "    password=PASSWORD,\n",
    "    port=PORT\n",
    ")"
   ],
   "metadata": {
    "id": "G4X_q8KBf7SF",
    "ExecuteTime": {
     "end_time": "2023-05-24T21:11:38.607725533Z",
     "start_time": "2023-05-24T21:11:38.510363692Z"
    }
   },
   "id": "G4X_q8KBf7SF",
   "execution_count": 57,
   "outputs": []
  },
  {
   "cell_type": "markdown",
   "id": "0dc6476b-7a00-44f1-ac93-6e3baed33a29",
   "metadata": {
    "id": "0dc6476b-7a00-44f1-ac93-6e3baed33a29"
   },
   "source": [
    "# Юнит 3. Предварительный анализ данных"
   ]
  },
  {
   "cell_type": "markdown",
   "id": "889782b6-8d1c-410e-8920-e57f27917c64",
   "metadata": {
    "id": "889782b6-8d1c-410e-8920-e57f27917c64"
   },
   "source": [
    "1. Напишите запрос, который посчитает количество вакансий в нашей базе (вакансии находятся в таблице vacancies). "
   ]
  },
  {
   "cell_type": "code",
   "execution_count": 25,
   "id": "bc39e68e-ed02-4ee2-9235-7258a2f867a8",
   "metadata": {
    "id": "bc39e68e-ed02-4ee2-9235-7258a2f867a8"
   },
   "outputs": [
    {
     "name": "stderr",
     "output_type": "stream",
     "text": [
      "/tmp/ipykernel_144082/3622974877.py:6: UserWarning: pandas only supports SQLAlchemy connectable (engine/connection) or database string URI or sqlite3 DBAPI2 connection. Other DBAPI2 objects are not tested. Please consider using SQLAlchemy.\n",
      "  df = pd.read_sql_query(query_3_1, connection)\n"
     ]
    },
    {
     "data": {
      "text/plain": "   count\n0  49197",
      "text/html": "<div>\n<style scoped>\n    .dataframe tbody tr th:only-of-type {\n        vertical-align: middle;\n    }\n\n    .dataframe tbody tr th {\n        vertical-align: top;\n    }\n\n    .dataframe thead th {\n        text-align: right;\n    }\n</style>\n<table border=\"1\" class=\"dataframe\">\n  <thead>\n    <tr style=\"text-align: right;\">\n      <th></th>\n      <th>count</th>\n    </tr>\n  </thead>\n  <tbody>\n    <tr>\n      <th>0</th>\n      <td>49197</td>\n    </tr>\n  </tbody>\n</table>\n</div>"
     },
     "execution_count": 25,
     "metadata": {},
     "output_type": "execute_result"
    }
   ],
   "source": [
    "# текст запроса\n",
    "query_3_1 = f'''\n",
    "select count(id)\n",
    "from vacancies\n",
    "'''\n",
    "df = pd.read_sql_query(query_3_1, connection)\n",
    "df"
   ]
  },
  {
   "cell_type": "markdown",
   "source": [
    "# Результат запроса\n",
    "В базе содержится 49197 вакансий."
   ],
   "metadata": {
    "collapsed": false
   }
  },
  {
   "cell_type": "markdown",
   "id": "b583485d-1f9e-494e-ada4-80ffff7c53d6",
   "metadata": {
    "id": "b583485d-1f9e-494e-ada4-80ffff7c53d6"
   },
   "source": [
    "2. Напишите запрос, который посчитает количество работодателей (таблица employers). "
   ]
  },
  {
   "cell_type": "code",
   "execution_count": 10,
   "id": "5408c52c-3407-4a63-b25b-1aafa2322d28",
   "metadata": {
    "id": "5408c52c-3407-4a63-b25b-1aafa2322d28"
   },
   "outputs": [
    {
     "name": "stderr",
     "output_type": "stream",
     "text": [
      "/tmp/ipykernel_144082/1560299513.py:6: UserWarning: pandas only supports SQLAlchemy connectable (engine/connection) or database string URI or sqlite3 DBAPI2 connection. Other DBAPI2 objects are not tested. Please consider using SQLAlchemy.\n",
      "  df = pd.read_sql_query(query_3_2, connection)\n"
     ]
    },
    {
     "data": {
      "text/plain": "   count\n0  23501",
      "text/html": "<div>\n<style scoped>\n    .dataframe tbody tr th:only-of-type {\n        vertical-align: middle;\n    }\n\n    .dataframe tbody tr th {\n        vertical-align: top;\n    }\n\n    .dataframe thead th {\n        text-align: right;\n    }\n</style>\n<table border=\"1\" class=\"dataframe\">\n  <thead>\n    <tr style=\"text-align: right;\">\n      <th></th>\n      <th>count</th>\n    </tr>\n  </thead>\n  <tbody>\n    <tr>\n      <th>0</th>\n      <td>23501</td>\n    </tr>\n  </tbody>\n</table>\n</div>"
     },
     "execution_count": 10,
     "metadata": {},
     "output_type": "execute_result"
    }
   ],
   "source": [
    "# текст запроса\n",
    "query_3_2 = f'''\n",
    "select count(id)\n",
    "from employers\n",
    "'''\n",
    "df = pd.read_sql_query(query_3_2, connection)\n",
    "df"
   ]
  },
  {
   "cell_type": "markdown",
   "source": [
    "# Результат запроса\n",
    "В базе данных 23501 работодателей."
   ],
   "metadata": {
    "collapsed": false
   }
  },
  {
   "cell_type": "markdown",
   "id": "a2bfff1f-c975-4bf6-84be-2185d79dcb76",
   "metadata": {
    "id": "a2bfff1f-c975-4bf6-84be-2185d79dcb76"
   },
   "source": [
    "3. Посчитате с помощью запроса количество регионов (таблица с)."
   ]
  },
  {
   "cell_type": "code",
   "source": [
    "# текст запроса\n",
    "query_3_3 = f'''\n",
    "select count(id)\n",
    "from areas\n",
    "'''\n",
    "df = pd.read_sql_query(query_3_3, connection)\n",
    "df"
   ],
   "metadata": {
    "id": "1m8QJwBYhey6"
   },
   "id": "1m8QJwBYhey6",
   "execution_count": 11,
   "outputs": [
    {
     "name": "stderr",
     "output_type": "stream",
     "text": [
      "/tmp/ipykernel_144082/3625548944.py:6: UserWarning: pandas only supports SQLAlchemy connectable (engine/connection) or database string URI or sqlite3 DBAPI2 connection. Other DBAPI2 objects are not tested. Please consider using SQLAlchemy.\n",
      "  df = pd.read_sql_query(query_3_3, connection)\n"
     ]
    },
    {
     "data": {
      "text/plain": "   count\n0   1362",
      "text/html": "<div>\n<style scoped>\n    .dataframe tbody tr th:only-of-type {\n        vertical-align: middle;\n    }\n\n    .dataframe tbody tr th {\n        vertical-align: top;\n    }\n\n    .dataframe thead th {\n        text-align: right;\n    }\n</style>\n<table border=\"1\" class=\"dataframe\">\n  <thead>\n    <tr style=\"text-align: right;\">\n      <th></th>\n      <th>count</th>\n    </tr>\n  </thead>\n  <tbody>\n    <tr>\n      <th>0</th>\n      <td>1362</td>\n    </tr>\n  </tbody>\n</table>\n</div>"
     },
     "execution_count": 11,
     "metadata": {},
     "output_type": "execute_result"
    }
   ]
  },
  {
   "cell_type": "markdown",
   "source": [
    "# Результат запроса\n",
    " В базе данных 1362 региона."
   ],
   "metadata": {
    "collapsed": false
   }
  },
  {
   "cell_type": "markdown",
   "id": "41bb59f3-53cc-4a67-a5bc-bedf573955e4",
   "metadata": {
    "id": "41bb59f3-53cc-4a67-a5bc-bedf573955e4"
   },
   "source": [
    "4. Посчитате с помощью запроса количество сфер деятельности в базе (таблица industries)."
   ]
  },
  {
   "cell_type": "code",
   "execution_count": 12,
   "id": "d286cf4c-707b-4cd2-9190-7ab3587d04a1",
   "metadata": {
    "id": "d286cf4c-707b-4cd2-9190-7ab3587d04a1"
   },
   "outputs": [
    {
     "name": "stderr",
     "output_type": "stream",
     "text": [
      "/tmp/ipykernel_144082/4178910013.py:6: UserWarning: pandas only supports SQLAlchemy connectable (engine/connection) or database string URI or sqlite3 DBAPI2 connection. Other DBAPI2 objects are not tested. Please consider using SQLAlchemy.\n",
      "  df = pd.read_sql_query(query_3_4, connection)\n"
     ]
    },
    {
     "data": {
      "text/plain": "   count\n0    294",
      "text/html": "<div>\n<style scoped>\n    .dataframe tbody tr th:only-of-type {\n        vertical-align: middle;\n    }\n\n    .dataframe tbody tr th {\n        vertical-align: top;\n    }\n\n    .dataframe thead th {\n        text-align: right;\n    }\n</style>\n<table border=\"1\" class=\"dataframe\">\n  <thead>\n    <tr style=\"text-align: right;\">\n      <th></th>\n      <th>count</th>\n    </tr>\n  </thead>\n  <tbody>\n    <tr>\n      <th>0</th>\n      <td>294</td>\n    </tr>\n  </tbody>\n</table>\n</div>"
     },
     "execution_count": 12,
     "metadata": {},
     "output_type": "execute_result"
    }
   ],
   "source": [
    "# текст запроса\n",
    "query_3_4 = f'''\n",
    "select count(id)\n",
    "from industries\n",
    "'''\n",
    "df = pd.read_sql_query(query_3_4, connection)\n",
    "df"
   ]
  },
  {
   "cell_type": "markdown",
   "source": [
    "# Результат запроса\n",
    "В базе данных 294 сферы деятельности."
   ],
   "metadata": {
    "collapsed": false
   }
  },
  {
   "cell_type": "markdown",
   "id": "9a8a2181-6914-448b-85f1-38f5f18b8a93",
   "metadata": {
    "id": "9a8a2181-6914-448b-85f1-38f5f18b8a93"
   },
   "source": [
    "***"
   ]
  },
  {
   "cell_type": "markdown",
   "source": [
    "# выводы по предварительному анализу данных\n",
    "В базе данных содержится 49197 вакансий от 23501 работодателя для 294 сфер деятельности в 1362 регионах."
   ],
   "metadata": {
    "collapsed": false
   }
  },
  {
   "cell_type": "markdown",
   "id": "8d62a9f3-f64e-4fe7-bdac-c4dffa16155e",
   "metadata": {
    "id": "8d62a9f3-f64e-4fe7-bdac-c4dffa16155e"
   },
   "source": [
    "# Юнит 4. Детальный анализ вакансий"
   ]
  },
  {
   "cell_type": "markdown",
   "id": "93053d3d-b284-481a-9cf7-012d7014c0e0",
   "metadata": {
    "id": "93053d3d-b284-481a-9cf7-012d7014c0e0"
   },
   "source": [
    "1. Напишите запрос, который позволит узнать, сколько (cnt) вакансий в каждом регионе (area).\n",
    "Отсортируйте по количеству вакансий в порядке убывания."
   ]
  },
  {
   "cell_type": "code",
   "execution_count": 13,
   "id": "3f069da6-fdc9-4ae7-b514-fafe2675efd3",
   "metadata": {
    "id": "3f069da6-fdc9-4ae7-b514-fafe2675efd3"
   },
   "outputs": [
    {
     "name": "stderr",
     "output_type": "stream",
     "text": [
      "/tmp/ipykernel_144082/3590210995.py:8: UserWarning: pandas only supports SQLAlchemy connectable (engine/connection) or database string URI or sqlite3 DBAPI2 connection. Other DBAPI2 objects are not tested. Please consider using SQLAlchemy.\n",
      "  df = pd.read_sql_query(query_4_1, connection)\n"
     ]
    },
    {
     "data": {
      "text/plain": "                name   cnt\n0             Москва  5333\n1    Санкт-Петербург  2851\n2              Минск  2112\n3        Новосибирск  2006\n4             Алматы  1892\n..               ...   ...\n764       Тарко-Сале     1\n765    Новоаннинский     1\n766            Бирск     1\n767           Сасово     1\n768             Анна     1\n\n[769 rows x 2 columns]",
      "text/html": "<div>\n<style scoped>\n    .dataframe tbody tr th:only-of-type {\n        vertical-align: middle;\n    }\n\n    .dataframe tbody tr th {\n        vertical-align: top;\n    }\n\n    .dataframe thead th {\n        text-align: right;\n    }\n</style>\n<table border=\"1\" class=\"dataframe\">\n  <thead>\n    <tr style=\"text-align: right;\">\n      <th></th>\n      <th>name</th>\n      <th>cnt</th>\n    </tr>\n  </thead>\n  <tbody>\n    <tr>\n      <th>0</th>\n      <td>Москва</td>\n      <td>5333</td>\n    </tr>\n    <tr>\n      <th>1</th>\n      <td>Санкт-Петербург</td>\n      <td>2851</td>\n    </tr>\n    <tr>\n      <th>2</th>\n      <td>Минск</td>\n      <td>2112</td>\n    </tr>\n    <tr>\n      <th>3</th>\n      <td>Новосибирск</td>\n      <td>2006</td>\n    </tr>\n    <tr>\n      <th>4</th>\n      <td>Алматы</td>\n      <td>1892</td>\n    </tr>\n    <tr>\n      <th>...</th>\n      <td>...</td>\n      <td>...</td>\n    </tr>\n    <tr>\n      <th>764</th>\n      <td>Тарко-Сале</td>\n      <td>1</td>\n    </tr>\n    <tr>\n      <th>765</th>\n      <td>Новоаннинский</td>\n      <td>1</td>\n    </tr>\n    <tr>\n      <th>766</th>\n      <td>Бирск</td>\n      <td>1</td>\n    </tr>\n    <tr>\n      <th>767</th>\n      <td>Сасово</td>\n      <td>1</td>\n    </tr>\n    <tr>\n      <th>768</th>\n      <td>Анна</td>\n      <td>1</td>\n    </tr>\n  </tbody>\n</table>\n<p>769 rows × 2 columns</p>\n</div>"
     },
     "execution_count": 13,
     "metadata": {},
     "output_type": "execute_result"
    }
   ],
   "source": [
    "# текст запроса\n",
    "query_4_1 = f'''\n",
    "select  a.name, count(v.id) cnt\n",
    "from vacancies v join areas a on a.id=v.area_id\n",
    "group by a.name\n",
    "order by cnt desc\n",
    "'''\n",
    "df = pd.read_sql_query(query_4_1, connection)\n",
    "df"
   ]
  },
  {
   "cell_type": "markdown",
   "source": [
    "# Результат запроса\n",
    "В пятерку лидеров по количеству вакансий входят следующие регионы: Москва, Санкт-Петербург, Минск, Новосибирск и Алматы."
   ],
   "metadata": {
    "collapsed": false
   }
  },
  {
   "cell_type": "markdown",
   "id": "4266f0b6-1646-492a-88b4-2f6a46502135",
   "metadata": {
    "id": "4266f0b6-1646-492a-88b4-2f6a46502135"
   },
   "source": [
    "2. Напишите запрос, чтобы определить у какого количества вакансий заполнено хотя бы одно из двух полей с зарплатой."
   ]
  },
  {
   "cell_type": "code",
   "execution_count": 14,
   "id": "0c44b350-72eb-4d65-8b54-a1fc449ba9fd",
   "metadata": {
    "id": "0c44b350-72eb-4d65-8b54-a1fc449ba9fd"
   },
   "outputs": [
    {
     "name": "stderr",
     "output_type": "stream",
     "text": [
      "/tmp/ipykernel_144082/3895430518.py:7: UserWarning: pandas only supports SQLAlchemy connectable (engine/connection) or database string URI or sqlite3 DBAPI2 connection. Other DBAPI2 objects are not tested. Please consider using SQLAlchemy.\n",
      "  df = pd.read_sql_query(query_4_2, connection)\n"
     ]
    },
    {
     "data": {
      "text/plain": "   count\n0  24073",
      "text/html": "<div>\n<style scoped>\n    .dataframe tbody tr th:only-of-type {\n        vertical-align: middle;\n    }\n\n    .dataframe tbody tr th {\n        vertical-align: top;\n    }\n\n    .dataframe thead th {\n        text-align: right;\n    }\n</style>\n<table border=\"1\" class=\"dataframe\">\n  <thead>\n    <tr style=\"text-align: right;\">\n      <th></th>\n      <th>count</th>\n    </tr>\n  </thead>\n  <tbody>\n    <tr>\n      <th>0</th>\n      <td>24073</td>\n    </tr>\n  </tbody>\n</table>\n</div>"
     },
     "execution_count": 14,
     "metadata": {},
     "output_type": "execute_result"
    }
   ],
   "source": [
    "# текст запроса\n",
    "query_4_2 = f'''\n",
    "select count(id)\n",
    "from vacancies\n",
    "where salary_from is not null or salary_to is not null\n",
    "'''\n",
    "df = pd.read_sql_query(query_4_2, connection)\n",
    "df\n"
   ]
  },
  {
   "cell_type": "markdown",
   "source": [
    "# Результат запроса\n",
    "В базе данных 24703 вакансии с заполненной информацией о зарплате, что составляет 50,21% от общего числа вакансий."
   ],
   "metadata": {
    "collapsed": false
   }
  },
  {
   "cell_type": "markdown",
   "id": "635c4d5d-f323-4c66-b428-50a088120aa0",
   "metadata": {
    "id": "635c4d5d-f323-4c66-b428-50a088120aa0"
   },
   "source": [
    "3. Найдите средние значения для нижней и верхней границы зарплатной вилки. Округлите значения до целого."
   ]
  },
  {
   "cell_type": "code",
   "execution_count": 15,
   "id": "603cdbe4-0ec3-4106-8eaf-c73fcdd29165",
   "metadata": {
    "id": "603cdbe4-0ec3-4106-8eaf-c73fcdd29165"
   },
   "outputs": [
    {
     "name": "stderr",
     "output_type": "stream",
     "text": [
      "/tmp/ipykernel_144082/451719518.py:7: UserWarning: pandas only supports SQLAlchemy connectable (engine/connection) or database string URI or sqlite3 DBAPI2 connection. Other DBAPI2 objects are not tested. Please consider using SQLAlchemy.\n",
      "  df = pd.read_sql_query(query_4_3, connection)\n"
     ]
    },
    {
     "data": {
      "text/plain": "   start_salary  end_salary\n0       71065.0    110537.0",
      "text/html": "<div>\n<style scoped>\n    .dataframe tbody tr th:only-of-type {\n        vertical-align: middle;\n    }\n\n    .dataframe tbody tr th {\n        vertical-align: top;\n    }\n\n    .dataframe thead th {\n        text-align: right;\n    }\n</style>\n<table border=\"1\" class=\"dataframe\">\n  <thead>\n    <tr style=\"text-align: right;\">\n      <th></th>\n      <th>start_salary</th>\n      <th>end_salary</th>\n    </tr>\n  </thead>\n  <tbody>\n    <tr>\n      <th>0</th>\n      <td>71065.0</td>\n      <td>110537.0</td>\n    </tr>\n  </tbody>\n</table>\n</div>"
     },
     "execution_count": 15,
     "metadata": {},
     "output_type": "execute_result"
    }
   ],
   "source": [
    "# текст запроса\n",
    "query_4_3 = f'''\n",
    "select round(avg(salary_from)) as start_salary,\n",
    "round(avg(salary_to)) as end_salary\n",
    "from vacancies\n",
    "'''\n",
    "df = pd.read_sql_query(query_4_3, connection)\n",
    "df"
   ]
  },
  {
   "cell_type": "markdown",
   "source": [
    "# Результат запроса\n",
    "Среднее значение нижней границы зарплатной вилки составляет 71065 руб., в то время как среднее значение верхней границы 110537 руб."
   ],
   "metadata": {
    "collapsed": false
   }
  },
  {
   "cell_type": "markdown",
   "id": "f3fdaec9-5fd3-4260-9cf5-1d7406b628a5",
   "metadata": {
    "id": "f3fdaec9-5fd3-4260-9cf5-1d7406b628a5"
   },
   "source": [
    "4. Напишите запрос, который выведет количество вакансий для каждого сочетания типа рабочего графика (schedule) и типа трудоустройства (employment), используемого в вакансиях. Результат отсортируйте по убыванию количества.\n"
   ]
  },
  {
   "cell_type": "code",
   "execution_count": 16,
   "id": "1ea710ec-871b-431e-9462-c7d0fd87011b",
   "metadata": {
    "id": "1ea710ec-871b-431e-9462-c7d0fd87011b"
   },
   "outputs": [
    {
     "name": "stderr",
     "output_type": "stream",
     "text": [
      "/tmp/ipykernel_144082/1646781780.py:8: UserWarning: pandas only supports SQLAlchemy connectable (engine/connection) or database string URI or sqlite3 DBAPI2 connection. Other DBAPI2 objects are not tested. Please consider using SQLAlchemy.\n",
      "  df = pd.read_sql_query(query_4_4, connection)\n"
     ]
    },
    {
     "data": {
      "text/plain": "            schedule           employment  count\n0        Полный день     Полная занятость  35367\n1   Удаленная работа     Полная занятость   7802\n2      Гибкий график     Полная занятость   1593\n3   Удаленная работа  Частичная занятость   1312\n4     Сменный график     Полная занятость    940\n5        Полный день           Стажировка    569\n6     Вахтовый метод     Полная занятость    367\n7        Полный день  Частичная занятость    347\n8      Гибкий график  Частичная занятость    312\n9        Полный день     Проектная работа    141\n10  Удаленная работа     Проектная работа    133\n11     Гибкий график           Стажировка    116\n12    Сменный график  Частичная занятость    101\n13  Удаленная работа           Стажировка     64\n14     Гибкий график     Проектная работа     18\n15    Сменный график           Стажировка     12\n16    Вахтовый метод     Проектная работа      2\n17    Сменный график     Проектная работа      1",
      "text/html": "<div>\n<style scoped>\n    .dataframe tbody tr th:only-of-type {\n        vertical-align: middle;\n    }\n\n    .dataframe tbody tr th {\n        vertical-align: top;\n    }\n\n    .dataframe thead th {\n        text-align: right;\n    }\n</style>\n<table border=\"1\" class=\"dataframe\">\n  <thead>\n    <tr style=\"text-align: right;\">\n      <th></th>\n      <th>schedule</th>\n      <th>employment</th>\n      <th>count</th>\n    </tr>\n  </thead>\n  <tbody>\n    <tr>\n      <th>0</th>\n      <td>Полный день</td>\n      <td>Полная занятость</td>\n      <td>35367</td>\n    </tr>\n    <tr>\n      <th>1</th>\n      <td>Удаленная работа</td>\n      <td>Полная занятость</td>\n      <td>7802</td>\n    </tr>\n    <tr>\n      <th>2</th>\n      <td>Гибкий график</td>\n      <td>Полная занятость</td>\n      <td>1593</td>\n    </tr>\n    <tr>\n      <th>3</th>\n      <td>Удаленная работа</td>\n      <td>Частичная занятость</td>\n      <td>1312</td>\n    </tr>\n    <tr>\n      <th>4</th>\n      <td>Сменный график</td>\n      <td>Полная занятость</td>\n      <td>940</td>\n    </tr>\n    <tr>\n      <th>5</th>\n      <td>Полный день</td>\n      <td>Стажировка</td>\n      <td>569</td>\n    </tr>\n    <tr>\n      <th>6</th>\n      <td>Вахтовый метод</td>\n      <td>Полная занятость</td>\n      <td>367</td>\n    </tr>\n    <tr>\n      <th>7</th>\n      <td>Полный день</td>\n      <td>Частичная занятость</td>\n      <td>347</td>\n    </tr>\n    <tr>\n      <th>8</th>\n      <td>Гибкий график</td>\n      <td>Частичная занятость</td>\n      <td>312</td>\n    </tr>\n    <tr>\n      <th>9</th>\n      <td>Полный день</td>\n      <td>Проектная работа</td>\n      <td>141</td>\n    </tr>\n    <tr>\n      <th>10</th>\n      <td>Удаленная работа</td>\n      <td>Проектная работа</td>\n      <td>133</td>\n    </tr>\n    <tr>\n      <th>11</th>\n      <td>Гибкий график</td>\n      <td>Стажировка</td>\n      <td>116</td>\n    </tr>\n    <tr>\n      <th>12</th>\n      <td>Сменный график</td>\n      <td>Частичная занятость</td>\n      <td>101</td>\n    </tr>\n    <tr>\n      <th>13</th>\n      <td>Удаленная работа</td>\n      <td>Стажировка</td>\n      <td>64</td>\n    </tr>\n    <tr>\n      <th>14</th>\n      <td>Гибкий график</td>\n      <td>Проектная работа</td>\n      <td>18</td>\n    </tr>\n    <tr>\n      <th>15</th>\n      <td>Сменный график</td>\n      <td>Стажировка</td>\n      <td>12</td>\n    </tr>\n    <tr>\n      <th>16</th>\n      <td>Вахтовый метод</td>\n      <td>Проектная работа</td>\n      <td>2</td>\n    </tr>\n    <tr>\n      <th>17</th>\n      <td>Сменный график</td>\n      <td>Проектная работа</td>\n      <td>1</td>\n    </tr>\n  </tbody>\n</table>\n</div>"
     },
     "execution_count": 16,
     "metadata": {},
     "output_type": "execute_result"
    }
   ],
   "source": [
    "# текст запроса\n",
    "query_4_4 = f'''\n",
    "select schedule, employment, count(id)\n",
    "from vacancies\n",
    "group by schedule, employment\n",
    "order by count(id) desc\n",
    "'''\n",
    "df = pd.read_sql_query(query_4_4, connection)\n",
    "df"
   ]
  },
  {
   "cell_type": "markdown",
   "source": [
    "# Результат запроса\n",
    "Лидирует по типу трудоустройства - \"полная занятость\": около 94% от всех вакансий, оставшиеся 6% делят \"частичная занятость\" и стажировка, в то время как вакансий на проектную работу незначительное количество (менее 0.04 %).\n",
    "По типу рабочего графика \"полный рабочий день\" требуется в 36424 вакансиях,\"удаленная работа\" в 9311, а \"гибкий график\" -2039.\n",
    "Большинство работодателей все ещё предпочитают нанимать сотрудников на полную занятость с графиком работы полный рабочий день - 35367. Несмотря на это мы видим проникновение мировых трендов на рынок вакансий: на втором месте удаленная работа с полной занятостью -7802. Вероятно это обусловлено пандемией, желанием работодателей сократить операционные расходы, экономией времени и удобством для соискателей."
   ],
   "metadata": {
    "collapsed": false
   }
  },
  {
   "cell_type": "markdown",
   "id": "0136ffee-0ead-4a6b-b608-61d1c753a438",
   "metadata": {
    "id": "0136ffee-0ead-4a6b-b608-61d1c753a438"
   },
   "source": [
    "5. Напишите запрос, выводящий значения поля Требуемый опыт работы (experience) в порядке возрастания количества вакансий, в которых указан данный вариант опыта. "
   ]
  },
  {
   "cell_type": "code",
   "execution_count": 22,
   "id": "5b3a8e79-f7ab-4008-b767-12aea3a205ea",
   "metadata": {
    "id": "5b3a8e79-f7ab-4008-b767-12aea3a205ea"
   },
   "outputs": [
    {
     "name": "stderr",
     "output_type": "stream",
     "text": [
      "/tmp/ipykernel_144082/3750186481.py:9: UserWarning: pandas only supports SQLAlchemy connectable (engine/connection) or database string URI or sqlite3 DBAPI2 connection. Other DBAPI2 objects are not tested. Please consider using SQLAlchemy.\n",
      "  df = pd.read_sql_query(query_4_5, connection)\n"
     ]
    },
    {
     "data": {
      "text/plain": "           experience  count\n0  От 1 года до 3 лет  26152\n1       От 3 до 6 лет  14511\n2           Нет опыта   7197\n3         Более 6 лет   1337",
      "text/html": "<div>\n<style scoped>\n    .dataframe tbody tr th:only-of-type {\n        vertical-align: middle;\n    }\n\n    .dataframe tbody tr th {\n        vertical-align: top;\n    }\n\n    .dataframe thead th {\n        text-align: right;\n    }\n</style>\n<table border=\"1\" class=\"dataframe\">\n  <thead>\n    <tr style=\"text-align: right;\">\n      <th></th>\n      <th>experience</th>\n      <th>count</th>\n    </tr>\n  </thead>\n  <tbody>\n    <tr>\n      <th>0</th>\n      <td>От 1 года до 3 лет</td>\n      <td>26152</td>\n    </tr>\n    <tr>\n      <th>1</th>\n      <td>От 3 до 6 лет</td>\n      <td>14511</td>\n    </tr>\n    <tr>\n      <th>2</th>\n      <td>Нет опыта</td>\n      <td>7197</td>\n    </tr>\n    <tr>\n      <th>3</th>\n      <td>Более 6 лет</td>\n      <td>1337</td>\n    </tr>\n  </tbody>\n</table>\n</div>"
     },
     "execution_count": 22,
     "metadata": {},
     "output_type": "execute_result"
    }
   ],
   "source": [
    "# текст запроса\n",
    "query_4_5 = f'''\n",
    "select experience, count(id)\n",
    "from vacancies\n",
    "where experience is not null\n",
    "group by experience\n",
    "order by count(id) desc\n",
    "'''\n",
    "df = pd.read_sql_query(query_4_5, connection)\n",
    "df"
   ]
  },
  {
   "cell_type": "markdown",
   "source": [
    "# Результат запроса\n",
    "Наибольшее количество вакансий требует начальных знаний и опыта от 1-3 лет. Работодатели более  заинтересованы в привлечении молодых специалистов, чем более опытных кандидатов. Вероятно, специалисты с опытом более 6 лет в индустрии достаточно известны, либо чаще используют нетворкинг и другие каналы поиска работы."
   ],
   "metadata": {
    "collapsed": false
   }
  },
  {
   "cell_type": "markdown",
   "source": [
    "***"
   ],
   "metadata": {
    "id": "oq2b7n1QpIka"
   },
   "id": "oq2b7n1QpIka"
  },
  {
   "cell_type": "code",
   "execution_count": null,
   "id": "e91f87ed-e25c-4f96-9f92-b642e8c0b4fa",
   "metadata": {
    "id": "e91f87ed-e25c-4f96-9f92-b642e8c0b4fa"
   },
   "outputs": [],
   "source": [
    "# выводы по детальному анализу вакансий"
   ]
  },
  {
   "cell_type": "markdown",
   "id": "7ea20ab6-04a7-40a0-adec-443a0e5a42c3",
   "metadata": {
    "id": "7ea20ab6-04a7-40a0-adec-443a0e5a42c3"
   },
   "source": [
    "# Юнит 5. Анализ работодателей"
   ]
  },
  {
   "cell_type": "markdown",
   "id": "968aed80-74ef-4ffb-b5bf-c65b84e9caea",
   "metadata": {
    "id": "968aed80-74ef-4ffb-b5bf-c65b84e9caea"
   },
   "source": [
    "1. Напишите запрос, который позволит узнать, какие работодатели находятся на первом и пятом месте по количеству вакансий."
   ]
  },
  {
   "cell_type": "code",
   "execution_count": 20,
   "id": "f2d62796-d400-4ec1-a675-88112739a50e",
   "metadata": {
    "id": "f2d62796-d400-4ec1-a675-88112739a50e"
   },
   "outputs": [
    {
     "name": "stderr",
     "output_type": "stream",
     "text": [
      "/tmp/ipykernel_144082/2956601185.py:10: UserWarning: pandas only supports SQLAlchemy connectable (engine/connection) or database string URI or sqlite3 DBAPI2 connection. Other DBAPI2 objects are not tested. Please consider using SQLAlchemy.\n",
      "  df = pd.read_sql_query(query_5_1, connection)\n"
     ]
    },
    {
     "data": {
      "text/plain": "            name  number\n0         Яндекс    1933\n1     Ростелеком     491\n2       Тинькофф     444\n3           СБЕР     428\n4  Газпром нефть     331",
      "text/html": "<div>\n<style scoped>\n    .dataframe tbody tr th:only-of-type {\n        vertical-align: middle;\n    }\n\n    .dataframe tbody tr th {\n        vertical-align: top;\n    }\n\n    .dataframe thead th {\n        text-align: right;\n    }\n</style>\n<table border=\"1\" class=\"dataframe\">\n  <thead>\n    <tr style=\"text-align: right;\">\n      <th></th>\n      <th>name</th>\n      <th>number</th>\n    </tr>\n  </thead>\n  <tbody>\n    <tr>\n      <th>0</th>\n      <td>Яндекс</td>\n      <td>1933</td>\n    </tr>\n    <tr>\n      <th>1</th>\n      <td>Ростелеком</td>\n      <td>491</td>\n    </tr>\n    <tr>\n      <th>2</th>\n      <td>Тинькофф</td>\n      <td>444</td>\n    </tr>\n    <tr>\n      <th>3</th>\n      <td>СБЕР</td>\n      <td>428</td>\n    </tr>\n    <tr>\n      <th>4</th>\n      <td>Газпром нефть</td>\n      <td>331</td>\n    </tr>\n  </tbody>\n</table>\n</div>"
     },
     "execution_count": 20,
     "metadata": {},
     "output_type": "execute_result"
    }
   ],
   "source": [
    "# текст запроса\n",
    "query_5_1 = f'''\n",
    "select e.name,count(v.id) as number\n",
    "from vacancies v\n",
    "inner join employers e on e.id=v.employer_id\n",
    "group by  e.name\n",
    "order by count(v.id) desc\n",
    "LIMIT 5\n",
    "'''\n",
    "df = pd.read_sql_query(query_5_1, connection)\n",
    "df"
   ]
  },
  {
   "cell_type": "markdown",
   "source": [
    "# Pезультат запроса\n",
    "У компании Яндекс наибольшее количество открытых вакансий - 1933, в то время как Газпром нефть замыкает пятерку лидеров с 331 открытой вакансией."
   ],
   "metadata": {
    "collapsed": false
   }
  },
  {
   "cell_type": "markdown",
   "id": "68377cfc-b378-43dc-ab7d-1195abf2c515",
   "metadata": {
    "id": "68377cfc-b378-43dc-ab7d-1195abf2c515"
   },
   "source": [
    "2. Напишите запрос, который для каждого региона выведет количество работодателей и вакансий в нём.\n",
    "Среди регионов, в которых нет вакансий, найдите тот, в котором наибольшее количество работодателей.\n"
   ]
  },
  {
   "cell_type": "code",
   "execution_count": 29,
   "id": "dd7df27a-e3e8-412e-a21a-5d389b71e891",
   "metadata": {
    "id": "dd7df27a-e3e8-412e-a21a-5d389b71e891"
   },
   "outputs": [
    {
     "name": "stderr",
     "output_type": "stream",
     "text": [
      "/tmp/ipykernel_144082/2659661473.py:11: UserWarning: pandas only supports SQLAlchemy connectable (engine/connection) or database string URI or sqlite3 DBAPI2 connection. Other DBAPI2 objects are not tested. Please consider using SQLAlchemy.\n",
      "  df = pd.read_sql_query(query_5_2, connection)\n"
     ]
    },
    {
     "data": {
      "text/plain": "                    name  employer  vacancies\n0                 Россия       410          0\n1              Казахстан       207          0\n2     Московская область        75          0\n3     Краснодарский край        19          0\n4     Ростовская область        18          0\n...                  ...       ...        ...\n1357         Новосибирск   1149438    1149438\n1358              Алматы   1364132    1364132\n1359               Минск   2354880    2354880\n1360     Санкт-Петербург   6320667    6320667\n1361              Москва  31272712   31272712\n\n[1362 rows x 3 columns]",
      "text/html": "<div>\n<style scoped>\n    .dataframe tbody tr th:only-of-type {\n        vertical-align: middle;\n    }\n\n    .dataframe tbody tr th {\n        vertical-align: top;\n    }\n\n    .dataframe thead th {\n        text-align: right;\n    }\n</style>\n<table border=\"1\" class=\"dataframe\">\n  <thead>\n    <tr style=\"text-align: right;\">\n      <th></th>\n      <th>name</th>\n      <th>employer</th>\n      <th>vacancies</th>\n    </tr>\n  </thead>\n  <tbody>\n    <tr>\n      <th>0</th>\n      <td>Россия</td>\n      <td>410</td>\n      <td>0</td>\n    </tr>\n    <tr>\n      <th>1</th>\n      <td>Казахстан</td>\n      <td>207</td>\n      <td>0</td>\n    </tr>\n    <tr>\n      <th>2</th>\n      <td>Московская область</td>\n      <td>75</td>\n      <td>0</td>\n    </tr>\n    <tr>\n      <th>3</th>\n      <td>Краснодарский край</td>\n      <td>19</td>\n      <td>0</td>\n    </tr>\n    <tr>\n      <th>4</th>\n      <td>Ростовская область</td>\n      <td>18</td>\n      <td>0</td>\n    </tr>\n    <tr>\n      <th>...</th>\n      <td>...</td>\n      <td>...</td>\n      <td>...</td>\n    </tr>\n    <tr>\n      <th>1357</th>\n      <td>Новосибирск</td>\n      <td>1149438</td>\n      <td>1149438</td>\n    </tr>\n    <tr>\n      <th>1358</th>\n      <td>Алматы</td>\n      <td>1364132</td>\n      <td>1364132</td>\n    </tr>\n    <tr>\n      <th>1359</th>\n      <td>Минск</td>\n      <td>2354880</td>\n      <td>2354880</td>\n    </tr>\n    <tr>\n      <th>1360</th>\n      <td>Санкт-Петербург</td>\n      <td>6320667</td>\n      <td>6320667</td>\n    </tr>\n    <tr>\n      <th>1361</th>\n      <td>Москва</td>\n      <td>31272712</td>\n      <td>31272712</td>\n    </tr>\n  </tbody>\n</table>\n<p>1362 rows × 3 columns</p>\n</div>"
     },
     "execution_count": 29,
     "metadata": {},
     "output_type": "execute_result"
    }
   ],
   "source": [
    "# текст запроса\n",
    "query_5_2 = f'''\n",
    "select a.name, count(e.id) as employer,count(v.id) as vacancies\n",
    "from areas a\n",
    "left join employers e on a.id=e.area\n",
    "left join vacancies v on v.area_id=a.id\n",
    "\n",
    "group by a.name\n",
    "order by vacancies, employer desc\n",
    "'''\n",
    "df = pd.read_sql_query(query_5_2, connection)\n",
    "df"
   ]
  },
  {
   "cell_type": "markdown",
   "source": [
    "# Результат запроса\n",
    "Наибольшее количество работодателей при отсутствии открытых вакансий зарегистрировано в России - 410, также на рынке предствалены работодатели из других стран, например, Австралии, Сингапура и Канады."
   ],
   "metadata": {
    "collapsed": false
   }
  },
  {
   "cell_type": "markdown",
   "id": "f2fe0acb-ab1a-4e15-9326-2560e22d73c1",
   "metadata": {
    "id": "f2fe0acb-ab1a-4e15-9326-2560e22d73c1"
   },
   "source": [
    "3. Для каждого работодателя посчитайте количество регионов, в которых он публикует свои вакансии. Отсортируйте результат по убыванию количества.\n"
   ]
  },
  {
   "cell_type": "code",
   "execution_count": 33,
   "outputs": [
    {
     "name": "stderr",
     "output_type": "stream",
     "text": [
      "/tmp/ipykernel_144082/4101608865.py:10: UserWarning: pandas only supports SQLAlchemy connectable (engine/connection) or database string URI or sqlite3 DBAPI2 connection. Other DBAPI2 objects are not tested. Please consider using SQLAlchemy.\n",
      "  df = pd.read_sql_query(query_5_3, connection)\n"
     ]
    },
    {
     "data": {
      "text/plain": "       employer_id                                    name  count\n0             1740                                  Яндекс    181\n1             2748                              Ростелеком    152\n2          5724811                              Спецремонт    116\n3          5130287                  Поляков Денис Иванович     88\n4          3682876                               ООО ЕФИН      71\n...            ...                                     ...    ...\n14901       810278                            НПП Авиатрон      1\n14902       810313              Центр дистанционных торгов      1\n14903       810551  Городские Телекоммуникационные Системы      1\n14904       810688                       Введенский, Отель      1\n14905       811902              Группа Компаний Автоимпорт      1\n\n[14906 rows x 3 columns]",
      "text/html": "<div>\n<style scoped>\n    .dataframe tbody tr th:only-of-type {\n        vertical-align: middle;\n    }\n\n    .dataframe tbody tr th {\n        vertical-align: top;\n    }\n\n    .dataframe thead th {\n        text-align: right;\n    }\n</style>\n<table border=\"1\" class=\"dataframe\">\n  <thead>\n    <tr style=\"text-align: right;\">\n      <th></th>\n      <th>employer_id</th>\n      <th>name</th>\n      <th>count</th>\n    </tr>\n  </thead>\n  <tbody>\n    <tr>\n      <th>0</th>\n      <td>1740</td>\n      <td>Яндекс</td>\n      <td>181</td>\n    </tr>\n    <tr>\n      <th>1</th>\n      <td>2748</td>\n      <td>Ростелеком</td>\n      <td>152</td>\n    </tr>\n    <tr>\n      <th>2</th>\n      <td>5724811</td>\n      <td>Спецремонт</td>\n      <td>116</td>\n    </tr>\n    <tr>\n      <th>3</th>\n      <td>5130287</td>\n      <td>Поляков Денис Иванович</td>\n      <td>88</td>\n    </tr>\n    <tr>\n      <th>4</th>\n      <td>3682876</td>\n      <td>ООО ЕФИН</td>\n      <td>71</td>\n    </tr>\n    <tr>\n      <th>...</th>\n      <td>...</td>\n      <td>...</td>\n      <td>...</td>\n    </tr>\n    <tr>\n      <th>14901</th>\n      <td>810278</td>\n      <td>НПП Авиатрон</td>\n      <td>1</td>\n    </tr>\n    <tr>\n      <th>14902</th>\n      <td>810313</td>\n      <td>Центр дистанционных торгов</td>\n      <td>1</td>\n    </tr>\n    <tr>\n      <th>14903</th>\n      <td>810551</td>\n      <td>Городские Телекоммуникационные Системы</td>\n      <td>1</td>\n    </tr>\n    <tr>\n      <th>14904</th>\n      <td>810688</td>\n      <td>Введенский, Отель</td>\n      <td>1</td>\n    </tr>\n    <tr>\n      <th>14905</th>\n      <td>811902</td>\n      <td>Группа Компаний Автоимпорт</td>\n      <td>1</td>\n    </tr>\n  </tbody>\n</table>\n<p>14906 rows × 3 columns</p>\n</div>"
     },
     "execution_count": 33,
     "metadata": {},
     "output_type": "execute_result"
    }
   ],
   "source": [
    "# текст запроса\n",
    "\n",
    "query_5_3= f'''\n",
    "select v.employer_id, e.name, count(distinct v.area_id)\n",
    "from vacancies v\n",
    "join employers e on v.employer_id=e.id\n",
    "group by employer_id,e.name\n",
    "order by count(distinct area_id) desc\n",
    "'''\n",
    "df = pd.read_sql_query(query_5_3, connection)\n",
    "df"
   ],
   "metadata": {
    "collapsed": false
   }
  },
  {
   "cell_type": "markdown",
   "source": [
    "# Результат запроса\n",
    "У компании Яндекс открыты вакансии в наибольшем количестве регионов - 181, далее следует Ростелеком -152 региона."
   ],
   "metadata": {
    "collapsed": false
   }
  },
  {
   "cell_type": "markdown",
   "id": "eab2206d-d95b-468b-8e5f-34381abf0ce7",
   "metadata": {
    "id": "eab2206d-d95b-468b-8e5f-34381abf0ce7"
   },
   "source": [
    "4. Напишите запрос для подсчёта количества работодателей, у которых не указана сфера деятельности. "
   ]
  },
  {
   "cell_type": "code",
   "execution_count": 7,
   "id": "80defb23-bfb1-4a18-8be6-bf36aa7165d5",
   "metadata": {
    "id": "80defb23-bfb1-4a18-8be6-bf36aa7165d5"
   },
   "outputs": [
    {
     "name": "stderr",
     "output_type": "stream",
     "text": [
      "/tmp/ipykernel_312094/294244015.py:6: UserWarning: pandas only supports SQLAlchemy connectable (engine/connection) or database string URI or sqlite3 DBAPI2 connection. Other DBAPI2 objects are not tested. Please consider using SQLAlchemy.\n",
      "  df = pd.read_sql_query(query_5_4, connection)\n"
     ]
    },
    {
     "data": {
      "text/plain": "   count\n0   8419",
      "text/html": "<div>\n<style scoped>\n    .dataframe tbody tr th:only-of-type {\n        vertical-align: middle;\n    }\n\n    .dataframe tbody tr th {\n        vertical-align: top;\n    }\n\n    .dataframe thead th {\n        text-align: right;\n    }\n</style>\n<table border=\"1\" class=\"dataframe\">\n  <thead>\n    <tr style=\"text-align: right;\">\n      <th></th>\n      <th>count</th>\n    </tr>\n  </thead>\n  <tbody>\n    <tr>\n      <th>0</th>\n      <td>8419</td>\n    </tr>\n  </tbody>\n</table>\n</div>"
     },
     "execution_count": 7,
     "metadata": {},
     "output_type": "execute_result"
    }
   ],
   "source": [
    "# текст запроса\n",
    "query_5_4= f'''\n",
    "select count(*) from employers WHERE id not IN (select employer_id\n",
    "from employers_industries)\n",
    "'''\n",
    "df = pd.read_sql_query(query_5_4, connection)\n",
    "df"
   ]
  },
  {
   "cell_type": "markdown",
   "source": [
    "# Результат запроса\n",
    "У 8419 работодателей не указана сфера деятельности."
   ],
   "metadata": {
    "collapsed": false
   }
  },
  {
   "cell_type": "markdown",
   "id": "0112af31-f6b0-4e3b-82ab-71296e752e5e",
   "metadata": {
    "id": "0112af31-f6b0-4e3b-82ab-71296e752e5e"
   },
   "source": [
    "5. Напишите запрос, чтобы узнать название компании, находящейся на третьем месте в алфавитном списке (по названию) компаний, у которых указано четыре сферы деятельности. "
   ]
  },
  {
   "cell_type": "code",
   "execution_count": 11,
   "id": "973b0cfc-a972-470a-8b4a-68744ef220c4",
   "metadata": {
    "id": "973b0cfc-a972-470a-8b4a-68744ef220c4"
   },
   "outputs": [
    {
     "name": "stderr",
     "output_type": "stream",
     "text": [
      "/tmp/ipykernel_312094/2389486858.py:10: UserWarning: pandas only supports SQLAlchemy connectable (engine/connection) or database string URI or sqlite3 DBAPI2 connection. Other DBAPI2 objects are not tested. Please consider using SQLAlchemy.\n",
      "  df = pd.read_sql_query(query_5_5, connection)\n"
     ]
    },
    {
     "data": {
      "text/plain": "                 name  count\n0        101 Интернет      4\n1            21vek.by      4\n2                2ГИС      4\n3                  2К      4\n4         4 пикселя +      4\n...               ...    ...\n1131            ЮРИОН      4\n1132  ЮТИП Технологии      4\n1133           ЯКласс      4\n1134            ЯрНео      4\n1135    Яшин&Партнёры      4\n\n[1136 rows x 2 columns]",
      "text/html": "<div>\n<style scoped>\n    .dataframe tbody tr th:only-of-type {\n        vertical-align: middle;\n    }\n\n    .dataframe tbody tr th {\n        vertical-align: top;\n    }\n\n    .dataframe thead th {\n        text-align: right;\n    }\n</style>\n<table border=\"1\" class=\"dataframe\">\n  <thead>\n    <tr style=\"text-align: right;\">\n      <th></th>\n      <th>name</th>\n      <th>count</th>\n    </tr>\n  </thead>\n  <tbody>\n    <tr>\n      <th>0</th>\n      <td>101 Интернет</td>\n      <td>4</td>\n    </tr>\n    <tr>\n      <th>1</th>\n      <td>21vek.by</td>\n      <td>4</td>\n    </tr>\n    <tr>\n      <th>2</th>\n      <td>2ГИС</td>\n      <td>4</td>\n    </tr>\n    <tr>\n      <th>3</th>\n      <td>2К</td>\n      <td>4</td>\n    </tr>\n    <tr>\n      <th>4</th>\n      <td>4 пикселя +</td>\n      <td>4</td>\n    </tr>\n    <tr>\n      <th>...</th>\n      <td>...</td>\n      <td>...</td>\n    </tr>\n    <tr>\n      <th>1131</th>\n      <td>ЮРИОН</td>\n      <td>4</td>\n    </tr>\n    <tr>\n      <th>1132</th>\n      <td>ЮТИП Технологии</td>\n      <td>4</td>\n    </tr>\n    <tr>\n      <th>1133</th>\n      <td>ЯКласс</td>\n      <td>4</td>\n    </tr>\n    <tr>\n      <th>1134</th>\n      <td>ЯрНео</td>\n      <td>4</td>\n    </tr>\n    <tr>\n      <th>1135</th>\n      <td>Яшин&amp;Партнёры</td>\n      <td>4</td>\n    </tr>\n  </tbody>\n</table>\n<p>1136 rows × 2 columns</p>\n</div>"
     },
     "execution_count": 11,
     "metadata": {},
     "output_type": "execute_result"
    }
   ],
   "source": [
    "# текст запроса\n",
    "query_5_5= f'''\n",
    "select e.name, count(ei.industry_id)\n",
    "from employers_industries ei\n",
    "join employers e on e.id=ei.employer_id\n",
    "group by e.name\n",
    "having count(ei.industry_id)=4\n",
    "order by e.name asc\n",
    "'''\n",
    "df = pd.read_sql_query(query_5_5, connection)\n",
    "df"
   ]
  },
  {
   "cell_type": "markdown",
   "source": [
    "# Результат запроса\n",
    "Многие компании выкладывают вакансии в 4 и более индустриях, одна из таких компаний 2ГИС(третья в алфавитном порядке)"
   ],
   "metadata": {
    "collapsed": false
   }
  },
  {
   "cell_type": "markdown",
   "id": "3bfcfdaf-755d-4d2b-8ed8-326201dc07ab",
   "metadata": {
    "id": "3bfcfdaf-755d-4d2b-8ed8-326201dc07ab"
   },
   "source": [
    "6. С помощью запроса выясните, у какого количества работодателей в качестве сферы деятельности указана Разработка программного обеспечения.\n"
   ]
  },
  {
   "cell_type": "code",
   "execution_count": 18,
   "id": "ad3f270f-2991-47eb-929b-e8f88a55b0d1",
   "metadata": {
    "id": "ad3f270f-2991-47eb-929b-e8f88a55b0d1"
   },
   "outputs": [
    {
     "name": "stderr",
     "output_type": "stream",
     "text": [
      "/tmp/ipykernel_312094/3647077534.py:9: UserWarning: pandas only supports SQLAlchemy connectable (engine/connection) or database string URI or sqlite3 DBAPI2 connection. Other DBAPI2 objects are not tested. Please consider using SQLAlchemy.\n",
      "  df = pd.read_sql_query(query_5_6, connection)\n"
     ]
    },
    {
     "data": {
      "text/plain": "   count\n0   3553",
      "text/html": "<div>\n<style scoped>\n    .dataframe tbody tr th:only-of-type {\n        vertical-align: middle;\n    }\n\n    .dataframe tbody tr th {\n        vertical-align: top;\n    }\n\n    .dataframe thead th {\n        text-align: right;\n    }\n</style>\n<table border=\"1\" class=\"dataframe\">\n  <thead>\n    <tr style=\"text-align: right;\">\n      <th></th>\n      <th>count</th>\n    </tr>\n  </thead>\n  <tbody>\n    <tr>\n      <th>0</th>\n      <td>3553</td>\n    </tr>\n  </tbody>\n</table>\n</div>"
     },
     "execution_count": 18,
     "metadata": {},
     "output_type": "execute_result"
    }
   ],
   "source": [
    "# текст запроса\n",
    "query_5_6= f'''\n",
    "select count(ei.employer_id)\n",
    "from employers_industries ei\n",
    "join industries i on i.id=ei.industry_id\n",
    "group by i.name\n",
    "having i.name ='Разработка программного обеспечения'\n",
    "'''\n",
    "df = pd.read_sql_query(query_5_6, connection)\n",
    "df"
   ]
  },
  {
   "cell_type": "markdown",
   "source": [
    "# результат запроса\n",
    "3553 компании ищут IT специалистов, т.е выкладывают вакансии в категории \"Разработка программного обеспечения\"."
   ],
   "metadata": {
    "collapsed": false
   }
  },
  {
   "cell_type": "markdown",
   "id": "7b02bb86-0546-40fb-94a4-242f050a5c57",
   "metadata": {
    "id": "7b02bb86-0546-40fb-94a4-242f050a5c57"
   },
   "source": [
    "7. Для компании «Яндекс» выведите список регионов-миллионников, в которых представлены вакансии компании, вместе с количеством вакансий в этих регионах. Также добавьте строку Total с общим количеством вакансий компании. Результат отсортируйте по возрастанию количества.\n",
    "\n",
    "Список городов-милионников надо взять [отсюда](https://ru.wikipedia.org/wiki/%D0%93%D0%BE%D1%80%D0%BE%D0%B4%D0%B0-%D0%BC%D0%B8%D0%BB%D0%BB%D0%B8%D0%BE%D0%BD%D0%B5%D1%80%D1%8B_%D0%A0%D0%BE%D1%81%D1%81%D0%B8%D0%B8). \n",
    "\n",
    "Если возникнут трудности с этим задание посмотрите материалы модуля  PYTHON-17. Как получать данные из веб-источников и API. "
   ]
  },
  {
   "cell_type": "code",
   "source": [
    "# код для получения списка городов-милионников\n",
    "import requests # Импортируем библиотеку requests\n",
    "from bs4 import BeautifulSoup\n",
    "# Определяем значение URL страницы для запроса\n",
    "url ='https://ru.wikipedia.org/wiki/%D0%93%D0%BE%D1%80%D0%BE%D0%B4%D0%B0-%D0%BC%D0%B8%D0%BB%D0%BB%D0%B8%D0%BE%D0%BD%D0%B5%D1%80%D1%8B_%D0%A0%D0%BE%D1%81%D1%81%D0%B8%D0%B8'\n",
    "response = requests.get(url)\n",
    "page = BeautifulSoup(response.text, 'html.parser') # Создаём объект BeautifulSoup, указывая html-парсер\n",
    "city_million=[x.text for x in page.find_all('div', class_=\"ts-ПозКарта-метка-ссылка\")]\n",
    "print(city_million)"
   ],
   "metadata": {
    "id": "ZdfrL6gIs1Pn"
   },
   "id": "ZdfrL6gIs1Pn",
   "execution_count": 5,
   "outputs": [
    {
     "name": "stdout",
     "output_type": "stream",
     "text": [
      "['Москва', 'Санкт-Петербург', 'Новосибирск', 'Красноярск', 'Екатеринбург', 'Нижний Новгород', 'Самара', 'Казань', 'Пермь', 'Омск', 'Челябинск', 'Ростов-на-Дону', 'Волгоград', 'Уфа', 'Воронеж', 'Краснодар']\n"
     ]
    }
   ]
  },
  {
   "cell_type": "code",
   "execution_count": 12,
   "id": "5a0e32a4-e68a-4365-8a39-2fe24c542c36",
   "metadata": {
    "id": "5a0e32a4-e68a-4365-8a39-2fe24c542c36"
   },
   "outputs": [
    {
     "name": "stderr",
     "output_type": "stream",
     "text": [
      "/tmp/ipykernel_339594/3352129555.py:18: UserWarning: pandas only supports SQLAlchemy connectable (engine/connection) or database string URI or sqlite3 DBAPI2 connection. Other DBAPI2 objects are not tested. Please consider using SQLAlchemy.\n",
      "  df = pd.read_sql_query(query_5_7, connection)\n"
     ]
    },
    {
     "data": {
      "text/plain": "               name  vacancies_count\n0            Москва             54.0\n1   Санкт-Петербург             42.0\n2      Екатеринбург             39.0\n3       Новосибирск             35.0\n4         Волгоград             24.0\n5           Воронеж             32.0\n6         Краснодар             30.0\n7        Красноярск             23.0\n8   Нижний Новгород             36.0\n9              Омск             21.0\n10            Пермь             25.0\n11   Ростов-на-Дону             25.0\n12           Самара             26.0\n13           Казань             25.0\n14              Уфа             26.0\n15        Челябинск             22.0\n16            Total            485.0",
      "text/html": "<div>\n<style scoped>\n    .dataframe tbody tr th:only-of-type {\n        vertical-align: middle;\n    }\n\n    .dataframe tbody tr th {\n        vertical-align: top;\n    }\n\n    .dataframe thead th {\n        text-align: right;\n    }\n</style>\n<table border=\"1\" class=\"dataframe\">\n  <thead>\n    <tr style=\"text-align: right;\">\n      <th></th>\n      <th>name</th>\n      <th>vacancies_count</th>\n    </tr>\n  </thead>\n  <tbody>\n    <tr>\n      <th>0</th>\n      <td>Москва</td>\n      <td>54.0</td>\n    </tr>\n    <tr>\n      <th>1</th>\n      <td>Санкт-Петербург</td>\n      <td>42.0</td>\n    </tr>\n    <tr>\n      <th>2</th>\n      <td>Екатеринбург</td>\n      <td>39.0</td>\n    </tr>\n    <tr>\n      <th>3</th>\n      <td>Новосибирск</td>\n      <td>35.0</td>\n    </tr>\n    <tr>\n      <th>4</th>\n      <td>Волгоград</td>\n      <td>24.0</td>\n    </tr>\n    <tr>\n      <th>5</th>\n      <td>Воронеж</td>\n      <td>32.0</td>\n    </tr>\n    <tr>\n      <th>6</th>\n      <td>Краснодар</td>\n      <td>30.0</td>\n    </tr>\n    <tr>\n      <th>7</th>\n      <td>Красноярск</td>\n      <td>23.0</td>\n    </tr>\n    <tr>\n      <th>8</th>\n      <td>Нижний Новгород</td>\n      <td>36.0</td>\n    </tr>\n    <tr>\n      <th>9</th>\n      <td>Омск</td>\n      <td>21.0</td>\n    </tr>\n    <tr>\n      <th>10</th>\n      <td>Пермь</td>\n      <td>25.0</td>\n    </tr>\n    <tr>\n      <th>11</th>\n      <td>Ростов-на-Дону</td>\n      <td>25.0</td>\n    </tr>\n    <tr>\n      <th>12</th>\n      <td>Самара</td>\n      <td>26.0</td>\n    </tr>\n    <tr>\n      <th>13</th>\n      <td>Казань</td>\n      <td>25.0</td>\n    </tr>\n    <tr>\n      <th>14</th>\n      <td>Уфа</td>\n      <td>26.0</td>\n    </tr>\n    <tr>\n      <th>15</th>\n      <td>Челябинск</td>\n      <td>22.0</td>\n    </tr>\n    <tr>\n      <th>16</th>\n      <td>Total</td>\n      <td>485.0</td>\n    </tr>\n  </tbody>\n</table>\n</div>"
     },
     "execution_count": 12,
     "metadata": {},
     "output_type": "execute_result"
    }
   ],
   "source": [
    "# текст запроса\n",
    "query_5_7= f'''\n",
    "\n",
    "with tmp_select as (\n",
    " select a.name, count(v.id) as \"vacancies_count\"\n",
    "  from vacancies v\n",
    "  join employers e on v.employer_id=e.id\n",
    "  join areas a on a.id=v.area_id\n",
    "  where e.name='Яндекс' and (a.name in('{\"','\".join(city_million)}'))\n",
    "  group by v.area_id,a.name\n",
    ")\n",
    "\n",
    "(select * from tmp_select)\n",
    "union all\n",
    "(select 'Total' as name, sum(\"vacancies_count\") from tmp_select)\n",
    "\n",
    "'''\n",
    "df = pd.read_sql_query(query_5_7, connection)\n",
    "df"
   ]
  },
  {
   "cell_type": "markdown",
   "source": [
    "# Результат запроса\n",
    "У компании \"Яндекс\" 285 открытых вакансий в 16 городах-миллионниках."
   ],
   "metadata": {
    "collapsed": false
   }
  },
  {
   "cell_type": "markdown",
   "id": "04966e40-3bc3-4dc8-9ba2-e80580ce3abc",
   "metadata": {
    "id": "04966e40-3bc3-4dc8-9ba2-e80580ce3abc"
   },
   "source": [
    "***"
   ]
  },
  {
   "cell_type": "markdown",
   "source": [
    "# Выводы по анализу работодателей\n",
    "На сайие предствавлено 23175 работодателей,которые ищут кандидатов на 49197 вакансий в различныйх регионах и странах.\n",
    "Подавляющее большинство вакансий открыто в России, но также есть малый процент вакансий для Австралии, Сингапура и Канады.\n",
    "У более чем тысячи работодателей указано 4 и более сферы деятельности, но есть  и 8419 работодателей оставивших это поле пустым.\n",
    "Наибольшее количество кандидатов требуется крупным компаниям таким как Яндекс, Ростелеком, Тинькофф и СБЕР.\n",
    "Например, компания Яндекс ищет сотрудников в 181 регионе России, в то время как Ростелеком только в 104.\n",
    "У Яндекса 1933 открытые вакансии, но только 285 из них привязаны к городам-миллионникам, что свидетельствует о большом смещении фокуса на удаленную работу.\n",
    "Также стоит отметить, что наблюдается острая нехватка кадров в IT сфере - 3553 открытых вакансии.\n",
    "\n"
   ],
   "metadata": {
    "collapsed": false
   }
  },
  {
   "cell_type": "markdown",
   "id": "b1ef156a-efcb-49ce-bb23-90763e7f35b2",
   "metadata": {
    "tags": [],
    "id": "b1ef156a-efcb-49ce-bb23-90763e7f35b2"
   },
   "source": [
    "# Юнит 6. Предметный анализ"
   ]
  },
  {
   "cell_type": "markdown",
   "id": "b9cd50a0-992d-4988-8463-2b2b1c4629b4",
   "metadata": {
    "id": "b9cd50a0-992d-4988-8463-2b2b1c4629b4"
   },
   "source": [
    "1. Сколько вакансий имеет отношение к данным?\n",
    "\n",
    "Считаем, что вакансия имеет отношение к данным, если в её названии содержатся слова 'data' или 'данн'.\n",
    "\n",
    "*Подсказка: Обратите внимание, что названия вакансий могут быть написаны в любом регистре.* \n"
   ]
  },
  {
   "cell_type": "code",
   "execution_count": 4,
   "id": "54ab0e50-c0f1-47cc-a54b-bc5c8bc363f9",
   "metadata": {
    "id": "54ab0e50-c0f1-47cc-a54b-bc5c8bc363f9",
    "ExecuteTime": {
     "end_time": "2023-05-14T20:53:57.253892766Z",
     "start_time": "2023-05-14T20:53:57.070001792Z"
    }
   },
   "outputs": [
    {
     "name": "stderr",
     "output_type": "stream",
     "text": [
      "/tmp/ipykernel_19811/270794917.py:8: UserWarning: pandas only supports SQLAlchemy connectable (engine/connection) or database string URI or sqlite3 DBAPI2 connection. Other DBAPI2 objects are not tested. Please consider using SQLAlchemy.\n",
      "  df = pd.read_sql_query(query_6_1, connection)\n"
     ]
    },
    {
     "data": {
      "text/plain": "   count\n0   1771",
      "text/html": "<div>\n<style scoped>\n    .dataframe tbody tr th:only-of-type {\n        vertical-align: middle;\n    }\n\n    .dataframe tbody tr th {\n        vertical-align: top;\n    }\n\n    .dataframe thead th {\n        text-align: right;\n    }\n</style>\n<table border=\"1\" class=\"dataframe\">\n  <thead>\n    <tr style=\"text-align: right;\">\n      <th></th>\n      <th>count</th>\n    </tr>\n  </thead>\n  <tbody>\n    <tr>\n      <th>0</th>\n      <td>1771</td>\n    </tr>\n  </tbody>\n</table>\n</div>"
     },
     "execution_count": 4,
     "metadata": {},
     "output_type": "execute_result"
    }
   ],
   "source": [
    "# текст запроса\n",
    "query_6_1= f'''\n",
    "select count(* )\n",
    "from vacancies v\n",
    "where ((LOWER(v.name) like '%data%')or(LOWER(v.name) like '%данн%'))\n",
    "\n",
    "'''\n",
    "df = pd.read_sql_query(query_6_1, connection)\n",
    "df"
   ]
  },
  {
   "cell_type": "markdown",
   "source": [
    "# Pезультат запроса\n",
    "На сайте открыта 1771 вакансия, связанная с данными."
   ],
   "metadata": {
    "collapsed": false
   }
  },
  {
   "cell_type": "markdown",
   "id": "4dea20cb-a36b-474a-a0b9-e08e8e3857a5",
   "metadata": {
    "id": "4dea20cb-a36b-474a-a0b9-e08e8e3857a5"
   },
   "source": [
    "2. Сколько есть подходящих вакансий для начинающего дата-сайентиста? \n",
    "Будем считать вакансиями для дата-сайентистов такие, в названии которых есть хотя бы одно из следующих сочетаний:\n",
    "* 'data scientist'\n",
    "* 'data science'\n",
    "* 'исследователь данных'\n",
    "* 'ML' (здесь не нужно брать вакансии по HTML)\n",
    "* 'machine learning'\n",
    "* 'машинн%обучен%'\n",
    "\n",
    "** В следующих заданиях мы продолжим работать с вакансиями по этому условию.*\n",
    "\n",
    "Считаем вакансиями для специалистов уровня Junior следующие:\n",
    "* в названии есть слово 'junior' *или*\n",
    "* требуемый опыт — Нет опыта *или*\n",
    "* тип трудоустройства — Стажировка.\n",
    " "
   ]
  },
  {
   "cell_type": "code",
   "execution_count": 17,
   "id": "9c61b3c0-bb66-46c9-ae1e-81d3f5752b4a",
   "metadata": {
    "id": "9c61b3c0-bb66-46c9-ae1e-81d3f5752b4a",
    "ExecuteTime": {
     "end_time": "2023-05-22T20:32:37.509721529Z",
     "start_time": "2023-05-22T20:32:37.347234406Z"
    }
   },
   "outputs": [
    {
     "name": "stderr",
     "output_type": "stream",
     "text": [
      "/tmp/ipykernel_19811/1665392559.py:14: UserWarning: pandas only supports SQLAlchemy connectable (engine/connection) or database string URI or sqlite3 DBAPI2 connection. Other DBAPI2 objects are not tested. Please consider using SQLAlchemy.\n",
      "  df = pd.read_sql_query(query_6_2, connection)\n"
     ]
    },
    {
     "data": {
      "text/plain": "   count\n0     51",
      "text/html": "<div>\n<style scoped>\n    .dataframe tbody tr th:only-of-type {\n        vertical-align: middle;\n    }\n\n    .dataframe tbody tr th {\n        vertical-align: top;\n    }\n\n    .dataframe thead th {\n        text-align: right;\n    }\n</style>\n<table border=\"1\" class=\"dataframe\">\n  <thead>\n    <tr style=\"text-align: right;\">\n      <th></th>\n      <th>count</th>\n    </tr>\n  </thead>\n  <tbody>\n    <tr>\n      <th>0</th>\n      <td>51</td>\n    </tr>\n  </tbody>\n</table>\n</div>"
     },
     "execution_count": 17,
     "metadata": {},
     "output_type": "execute_result"
    }
   ],
   "source": [
    "# текст запроса\n",
    "query_6_2= f'''\n",
    "with DS as (\n",
    "select *\n",
    "from vacancies v\n",
    "where (lower(name) like any (array['%data scientist%','%data science%','%исследователь данных%','% ml%','%/ml%','%/ ml%','%machine learning%','%машинн%обучен%']))\n",
    ")\n",
    "(select count(*)\n",
    "from DS\n",
    "where (lower(name) like '%junior%')or (experience='Нет опыта')or(employment='Стажировка')\n",
    "\n",
    ")\n",
    "'''\n",
    "df = pd.read_sql_query(query_6_2, connection)\n",
    "df"
   ]
  },
  {
   "cell_type": "markdown",
   "source": [
    "# Результат запроса\n",
    "На текущий момент на рынке есть 51 вакансия для начинающего дата-саентиста."
   ],
   "metadata": {
    "collapsed": false
   }
  },
  {
   "cell_type": "markdown",
   "id": "eedceb80-c5ca-480e-b27a-278dfb8b4438",
   "metadata": {
    "id": "eedceb80-c5ca-480e-b27a-278dfb8b4438"
   },
   "source": [
    "3. Сколько есть вакансий для DS, в которых в качестве ключевого навыка указан SQL или postgres?\n",
    "\n",
    "** Критерии для отнесения вакансии к DS указаны в предыдущем задании.*"
   ]
  },
  {
   "cell_type": "code",
   "execution_count": 18,
   "id": "69621713-0cc5-4f1b-a1d7-bb144fa6148c",
   "metadata": {
    "id": "69621713-0cc5-4f1b-a1d7-bb144fa6148c",
    "ExecuteTime": {
     "end_time": "2023-05-22T20:32:57.994641556Z",
     "start_time": "2023-05-22T20:32:57.843376155Z"
    }
   },
   "outputs": [
    {
     "name": "stderr",
     "output_type": "stream",
     "text": [
      "/tmp/ipykernel_19811/401874473.py:10: UserWarning: pandas only supports SQLAlchemy connectable (engine/connection) or database string URI or sqlite3 DBAPI2 connection. Other DBAPI2 objects are not tested. Please consider using SQLAlchemy.\n",
      "  df = pd.read_sql_query(query_6_3, connection)\n"
     ]
    },
    {
     "data": {
      "text/plain": "   count\n0    198",
      "text/html": "<div>\n<style scoped>\n    .dataframe tbody tr th:only-of-type {\n        vertical-align: middle;\n    }\n\n    .dataframe tbody tr th {\n        vertical-align: top;\n    }\n\n    .dataframe thead th {\n        text-align: right;\n    }\n</style>\n<table border=\"1\" class=\"dataframe\">\n  <thead>\n    <tr style=\"text-align: right;\">\n      <th></th>\n      <th>count</th>\n    </tr>\n  </thead>\n  <tbody>\n    <tr>\n      <th>0</th>\n      <td>198</td>\n    </tr>\n  </tbody>\n</table>\n</div>"
     },
     "execution_count": 18,
     "metadata": {},
     "output_type": "execute_result"
    }
   ],
   "source": [
    "# текст запроса\n",
    "query_6_3= f'''\n",
    "select count(mlv.name)\n",
    "from (\n",
    "  select * from vacancies v\n",
    "  where (lower(name) like any (array['%data scientist%','%data science%','%исследователь данных%','% ml%','%/ml%','ml%','%machine learning%','%машинн%обучен%']))\n",
    ") as mlv\n",
    "where mlv.key_skills IS NOT NULL AND (mlv.key_skills like '%SQL%' or lower(mlv.key_skills) LIKE '%postgre%')\n",
    "'''\n",
    "df = pd.read_sql_query(query_6_3, connection)\n",
    "df"
   ]
  },
  {
   "cell_type": "markdown",
   "source": [
    "# Результат запроса\n",
    "198 вакансий для дата-саентистов требуеют хорошего знания языка запросов SQL."
   ],
   "metadata": {
    "collapsed": false
   }
  },
  {
   "cell_type": "markdown",
   "id": "1be1e9c6-37cf-4a5f-bfeb-04cab799dc80",
   "metadata": {
    "id": "1be1e9c6-37cf-4a5f-bfeb-04cab799dc80"
   },
   "source": [
    "4. Проверьте, насколько популярен Python в требованиях работодателей к DS.Для этого вычислите количество вакансий, в которых в качестве ключевого навыка указан Python.\n",
    "\n",
    "** Это можно сделать помощью запроса, аналогичного предыдущему.*"
   ]
  },
  {
   "cell_type": "code",
   "execution_count": 25,
   "id": "0036a355-9ccf-4564-8b01-73d8194297e7",
   "metadata": {
    "id": "0036a355-9ccf-4564-8b01-73d8194297e7",
    "ExecuteTime": {
     "end_time": "2023-05-23T20:32:34.738083096Z",
     "start_time": "2023-05-23T20:32:34.595830351Z"
    }
   },
   "outputs": [
    {
     "name": "stderr",
     "output_type": "stream",
     "text": [
      "/tmp/ipykernel_19811/1225807955.py:10: UserWarning: pandas only supports SQLAlchemy connectable (engine/connection) or database string URI or sqlite3 DBAPI2 connection. Other DBAPI2 objects are not tested. Please consider using SQLAlchemy.\n",
      "  df = pd.read_sql_query(query_6_4, connection)\n"
     ]
    },
    {
     "data": {
      "text/plain": "   count\n0    351",
      "text/html": "<div>\n<style scoped>\n    .dataframe tbody tr th:only-of-type {\n        vertical-align: middle;\n    }\n\n    .dataframe tbody tr th {\n        vertical-align: top;\n    }\n\n    .dataframe thead th {\n        text-align: right;\n    }\n</style>\n<table border=\"1\" class=\"dataframe\">\n  <thead>\n    <tr style=\"text-align: right;\">\n      <th></th>\n      <th>count</th>\n    </tr>\n  </thead>\n  <tbody>\n    <tr>\n      <th>0</th>\n      <td>351</td>\n    </tr>\n  </tbody>\n</table>\n</div>"
     },
     "execution_count": 25,
     "metadata": {},
     "output_type": "execute_result"
    }
   ],
   "source": [
    "# текст запроса\n",
    "query_6_4= f'''\n",
    "select count(mlv.name)\n",
    "from (\n",
    "  select * from vacancies v\n",
    "  where (lower(name) like any (array['%data scientist%','%data science%','%исследователь данных%','%machine learning%','%машинн%обучен%']))or(name like '%ML%' and name not like'%HTML%')\n",
    ") as mlv\n",
    "where mlv.key_skills IS NOT NULL AND ( mlv.key_skills ilike '%Python%')\n",
    "'''\n",
    "df = pd.read_sql_query(query_6_4, connection)\n",
    "df"
   ]
  },
  {
   "cell_type": "markdown",
   "source": [
    "# Результат запроса\n",
    "Знание языка программирования Python требутся в 351 вакансии, что в 1,8 раза чаще чем требования к знанию SQL."
   ],
   "metadata": {
    "collapsed": false
   }
  },
  {
   "cell_type": "markdown",
   "id": "ec3c8db7-fa21-4a41-a994-1af63742a642",
   "metadata": {
    "id": "ec3c8db7-fa21-4a41-a994-1af63742a642"
   },
   "source": [
    "5. Сколько ключевых навыков в среднем указывают в вакансиях для DS?\n",
    "Ответ округлите до двух знаков после точки-разделителя."
   ]
  },
  {
   "cell_type": "code",
   "execution_count": 53,
   "id": "949132bc-d5b6-4611-8218-0b9a504d74f4",
   "metadata": {
    "id": "949132bc-d5b6-4611-8218-0b9a504d74f4",
    "ExecuteTime": {
     "end_time": "2023-05-24T07:40:33.544019432Z",
     "start_time": "2023-05-24T07:40:33.388377920Z"
    }
   },
   "outputs": [
    {
     "name": "stderr",
     "output_type": "stream",
     "text": [
      "/tmp/ipykernel_19811/1673273273.py:11: UserWarning: pandas only supports SQLAlchemy connectable (engine/connection) or database string URI or sqlite3 DBAPI2 connection. Other DBAPI2 objects are not tested. Please consider using SQLAlchemy.\n",
      "  df = pd.read_sql_query(query_6_5, connection)\n"
     ]
    },
    {
     "data": {
      "text/plain": "   round\n0   6.41",
      "text/html": "<div>\n<style scoped>\n    .dataframe tbody tr th:only-of-type {\n        vertical-align: middle;\n    }\n\n    .dataframe tbody tr th {\n        vertical-align: top;\n    }\n\n    .dataframe thead th {\n        text-align: right;\n    }\n</style>\n<table border=\"1\" class=\"dataframe\">\n  <thead>\n    <tr style=\"text-align: right;\">\n      <th></th>\n      <th>round</th>\n    </tr>\n  </thead>\n  <tbody>\n    <tr>\n      <th>0</th>\n      <td>6.41</td>\n    </tr>\n  </tbody>\n</table>\n</div>"
     },
     "execution_count": 53,
     "metadata": {},
     "output_type": "execute_result"
    }
   ],
   "source": [
    "# текст запроса\n",
    "query_6_5= f'''\n",
    "select  round(avg(length(key_skills)\n",
    "             -length(replace(key_skills, CHR(9), ''))+1), 2)\n",
    " from vacancies v\n",
    "  where (lower(name) like any (array['%data scientist%','%data science%','%исследователь данных%','%machine learning%','%машинн%обучен%']))or(name like'%ML%' and name not like'%HTML%')\n",
    "\n",
    "and(key_skills IS NOT NULL )\n",
    "\n",
    "'''\n",
    "df = pd.read_sql_query(query_6_5, connection)\n",
    "df"
   ]
  },
  {
   "cell_type": "markdown",
   "source": [
    "# Результат запроса\n",
    "Профессия DS требует огромного спектра знаний: среднее количество требуемых ключевых навыков более 6"
   ],
   "metadata": {
    "collapsed": false
   }
  },
  {
   "cell_type": "markdown",
   "id": "1041c17a-ca8f-4543-a0ca-32778914fb00",
   "metadata": {
    "id": "1041c17a-ca8f-4543-a0ca-32778914fb00"
   },
   "source": [
    "6. Напишите запрос, позволяющий вычислить, какую зарплату для DS в **среднем** указывают для каждого типа требуемого опыта (уникальное значение из поля *experience*). \n",
    "\n",
    "При решении задачи примите во внимание следующее:\n",
    "1. Рассматриваем только вакансии, у которых заполнено хотя бы одно из двух полей с зарплатой.\n",
    "2. Если заполнены оба поля с зарплатой, то считаем зарплату по каждой вакансии как сумму двух полей, делённую на 2. Если заполнено только одно из полей, то его и считаем зарплатой по вакансии.\n",
    "3. Если в расчётах участвует null, в результате он тоже даст null (посмотрите, что возвращает запрос select 1 + null). Чтобы избежать этой ситуацию, мы воспользуемся функцией [coalesce](https://postgrespro.ru/docs/postgresql/9.5/functions-conditional#functions-coalesce-nvl-ifnull), которая заменит null на значение, которое мы передадим. Например, посмотрите, что возвращает запрос `select 1 + coalesce(null, 0)`\n",
    "\n",
    "Выясните, на какую зарплату в среднем может рассчитывать дата-сайентист с опытом работы от 3 до 6 лет. Результат округлите до целого числа. "
   ]
  },
  {
   "cell_type": "code",
   "execution_count": 58,
   "id": "6a743d39-5204-48d3-8271-b9f88e68d40e",
   "metadata": {
    "id": "6a743d39-5204-48d3-8271-b9f88e68d40e",
    "ExecuteTime": {
     "end_time": "2023-05-24T21:12:18.363901404Z",
     "start_time": "2023-05-24T21:12:18.218683229Z"
    }
   },
   "outputs": [
    {
     "name": "stderr",
     "output_type": "stream",
     "text": [
      "/tmp/ipykernel_19811/783395382.py:14: UserWarning: pandas only supports SQLAlchemy connectable (engine/connection) or database string URI or sqlite3 DBAPI2 connection. Other DBAPI2 objects are not tested. Please consider using SQLAlchemy.\n",
      "  df = pd.read_sql_query(query_6_6, connection)\n"
     ]
    },
    {
     "data": {
      "text/plain": "      round\n0  243115.0",
      "text/html": "<div>\n<style scoped>\n    .dataframe tbody tr th:only-of-type {\n        vertical-align: middle;\n    }\n\n    .dataframe tbody tr th {\n        vertical-align: top;\n    }\n\n    .dataframe thead th {\n        text-align: right;\n    }\n</style>\n<table border=\"1\" class=\"dataframe\">\n  <thead>\n    <tr style=\"text-align: right;\">\n      <th></th>\n      <th>round</th>\n    </tr>\n  </thead>\n  <tbody>\n    <tr>\n      <th>0</th>\n      <td>243115.0</td>\n    </tr>\n  </tbody>\n</table>\n</div>"
     },
     "execution_count": 58,
     "metadata": {},
     "output_type": "execute_result"
    }
   ],
   "source": [
    "# текст запроса\n",
    "query_6_6= f'''\n",
    "with DS as (select  *\n",
    " from vacancies v\n",
    "  where (lower(name) like any (array['%data scientist%','%data science%','%исследователь данных%','%machine learning%','%машинн%обучен%']))or(name like'%ML%' and name not like'%HTML%')\n",
    "\n",
    "and(key_skills IS NOT NULL )\n",
    ")\n",
    "select round(AVG(coalesce((salary_from+salary_to)/2, salary_from, salary_to)),0)\n",
    "from DS\n",
    "where (experience ='От 3 до 6 лет') and ((salary_from is not null) or(salary_to is not null))\n",
    "\n",
    "'''\n",
    "df = pd.read_sql_query(query_6_6, connection)\n",
    "df"
   ]
  },
  {
   "cell_type": "markdown",
   "source": [
    "# Результат запроса\n",
    "По данным РосСтат на 2021 год средняя зарплата по России составляет 57 244 руб. Опытный дата-сайнтист , имеющий от 3 до 6 лет опыта, может в среднем зарабатывать в 4.24 раза больше."
   ],
   "metadata": {
    "collapsed": false
   }
  },
  {
   "cell_type": "markdown",
   "id": "6a7892b4-4113-4746-adce-18aa2844f18e",
   "metadata": {
    "id": "6a7892b4-4113-4746-adce-18aa2844f18e"
   },
   "source": [
    "***"
   ]
  },
  {
   "cell_type": "markdown",
   "source": [
    "# выводы по предметному анализу\n",
    "Открыта 1771 вакансия, связанная с данными. Несмотря на то, что профессия дата-саентиста требует широкого кругозора и большого количества различных умений (более 6 различных ключевых навыков), на рынке всё же присутствует 51 вакансия для начинающих специалистов.\n",
    "Python как ключевой навык требуется в 1.8 раза чаще, чем SQL, так как он является основным языком ML разработчиков.\n",
    "Средняя заработная плата специалиста составляет 243115 руб., что в 4.24 раза выше средней зарплаты по России. Такая высокая ЗП обусловлена большим количеством знаний и требований."
   ],
   "metadata": {
    "collapsed": false
   }
  },
  {
   "cell_type": "markdown",
   "source": [
    "# Общий вывод по проекту"
   ],
   "metadata": {
    "id": "c0ED6fh7wiBT"
   },
   "id": "c0ED6fh7wiBT"
  },
  {
   "cell_type": "markdown",
   "source": [
    "Количество вакансий на сайте HeadHunter составляет 49197. 23501 работодатель ищут кандидатов в 1362 регионах и 294 сферах деятельности.\n",
    "Большинство вакансий открыты в городах-миллионниках: Москве, Санкт-Петербурге, Минске, Новосибирске и Алматы. Преимущественно этот ресурс ориентирован на русскоязычных кандидатов из России и стран СНГ, но несмотря на это присутствуют вакансии и для других стран: Австралии, Сингапура и Канады.\n",
    "Наибольшее количество кандидатов требуется крупным компаниям: Яндекс, Ростелеком, Тинькофф и СБЕР. Например, у компании Яндекс 1933 открытые вакансии, но только 285 из них привязаны к городам-миллионникам, что свидетельствует о большом смещении фокуса на удаленную работу. Также стоит отметить, что наблюдается острая нехватка кадров в IT сфере - 3553 открытых вакансии.\n",
    "Одним из востребованных и перспективных направлений в IT является data science. Развитие данного направления связано с активным использованием big data, математических моделей и машинного обучения при анализе данных. Высокая заработная плата таких специалистов привлекает большое количество кандидатов. Однако, данная профессия требует большого количества компетенций (в среднем более 6 ключевых навыков), например, программирование на Python, SQL, знания математических моделей и т.д. Квалифицированных кадров на текущий момент недостаточно, что подтверждает 1771 открытая вакансия.\n",
    "\n"
   ],
   "metadata": {
    "collapsed": false
   }
  },
  {
   "cell_type": "code",
   "execution_count": null,
   "outputs": [],
   "source": [],
   "metadata": {
    "collapsed": false
   }
  }
 ],
 "metadata": {
  "kernelspec": {
   "display_name": "Python 3 (ipykernel)",
   "language": "python",
   "name": "python3"
  },
  "language_info": {
   "codemirror_mode": {
    "name": "ipython",
    "version": 3
   },
   "file_extension": ".py",
   "mimetype": "text/x-python",
   "name": "python",
   "nbconvert_exporter": "python",
   "pygments_lexer": "ipython3",
   "version": "3.9.7"
  },
  "colab": {
   "provenance": [],
   "collapsed_sections": [
    "8d62a9f3-f64e-4fe7-bdac-c4dffa16155e"
   ]
  }
 },
 "nbformat": 4,
 "nbformat_minor": 5
}
